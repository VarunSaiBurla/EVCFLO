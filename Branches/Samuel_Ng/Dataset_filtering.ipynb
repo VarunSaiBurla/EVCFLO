{
 "cells": [
  {
   "cell_type": "markdown",
   "metadata": {},
   "source": [
    "- The purpose of this notbook is filtering the data related to EV\n",
    "\n",
    "- The raw dataset is collected from FuelEconomy.gov\n",
    "    https://www.fueleconomy.gov/feg/download.shtml\n",
    "\n",
    "- Data Description saved to a separable pdf file."
   ]
  },
  {
   "cell_type": "code",
   "execution_count": 1,
   "metadata": {},
   "outputs": [
    {
     "name": "stderr",
     "output_type": "stream",
     "text": [
      "/var/folders/jb/qylnhv117rngkn2q3sh98ww80000gn/T/ipykernel_1980/2811715249.py:4: DtypeWarning: Columns (72,74,75,77) have mixed types. Specify dtype option on import or set low_memory=False.\n",
      "  df = pd.read_csv('/Users/samuelng/Library/CloudStorage/OneDrive-Personal/Deakin/SIT764 - Team Project (A) - Project Managemnet and Practices/EV/All_Vehicles(1984–2025).csv')\n"
     ]
    }
   ],
   "source": [
    "import pandas as pd\n",
    "\n",
    "# Load csv file\n",
    "df = pd.read_csv('/Users/samuelng/Library/CloudStorage/OneDrive-Personal/Deakin/SIT764 - Team Project (A) - Project Managemnet and Practices/EV/All_Vehicles(1984–2025).csv')"
   ]
  },
  {
   "cell_type": "markdown",
   "metadata": {},
   "source": [
    "- list all type of vehicle in the dataset"
   ]
  },
  {
   "cell_type": "code",
   "execution_count": 2,
   "metadata": {},
   "outputs": [
    {
     "name": "stdout",
     "output_type": "stream",
     "text": [
      "All unique type of vehicle:\n",
      " [nan 'Diesel' 'Hybrid' 'Bifuel (CNG)' 'CNG' 'FFV' 'EV' 'Bifuel (LPG)'\n",
      " 'Plug-in Hybrid' 'FCV']\n"
     ]
    }
   ],
   "source": [
    "# Extract unique values from the 'atvType'\n",
    "unique_vehicle_types = df['atvType'].unique()\n",
    "\n",
    "print(\"All unique type of vehicle:\\n\",unique_vehicle_types)\n"
   ]
  },
  {
   "cell_type": "markdown",
   "metadata": {},
   "source": [
    "- Filter EV type of vehicle in the dataset, and remove all the unrelative column in the dataset"
   ]
  },
  {
   "cell_type": "code",
   "execution_count": 3,
   "metadata": {},
   "outputs": [],
   "source": [
    "# Filter the data where 'atvType' is 'EV'\n",
    "EV_data = df[df['atvType'] == 'EV']\n",
    "\n",
    "# Remove unrelative columns\n",
    "EV_data_cleaned = EV_data.drop(columns=['barrelsA08', 'cityA08', 'cityA08U', 'cityCD', 'cityUF', 'co2', 'co2A', 'co2TailpipeAGpm', 'co2TailpipeGpm','combA08', 'combA08U', 'combinedCD', 'combinedUF', 'cylinders', 'displ', 'fuelCostA08', 'ghgScoreA', 'highwayA08', 'highwayA08U', 'highwayCD', 'highwayUF', 'mpgData', 'phevBlended', 'UCityA', 'UHighwayA', 'guzzler', 'trans_dscr', 'fuelType2', 'rangeA', 'startStop', 'phevCity', 'phevHwy', 'phevComb', 'feScore', 'createdOn', 'modifiedOn'])\n",
    "\n",
    "# Save filtered data to new csv file\n",
    "EV_data_cleaned.to_csv('/Users/samuelng/Library/CloudStorage/OneDrive-Personal/Deakin/SIT764 - Team Project (A) - Project Managemnet and Practices/EV/electric_vehicles.csv', index=False)"
   ]
  }
 ],
 "metadata": {
  "kernelspec": {
   "display_name": "Python 3",
   "language": "python",
   "name": "python3"
  },
  "language_info": {
   "codemirror_mode": {
    "name": "ipython",
    "version": 3
   },
   "file_extension": ".py",
   "mimetype": "text/x-python",
   "name": "python",
   "nbconvert_exporter": "python",
   "pygments_lexer": "ipython3",
   "version": "3.11.7"
  }
 },
 "nbformat": 4,
 "nbformat_minor": 2
}
